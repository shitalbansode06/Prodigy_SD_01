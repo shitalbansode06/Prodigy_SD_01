{
  "nbformat": 4,
  "nbformat_minor": 0,
  "metadata": {
    "colab": {
      "provenance": []
    },
    "kernelspec": {
      "name": "python3",
      "display_name": "Python 3"
    },
    "language_info": {
      "name": "python"
    }
  },
  "cells": [
    {
      "cell_type": "code",
      "execution_count": 1,
      "metadata": {
        "colab": {
          "base_uri": "https://localhost:8080/"
        },
        "id": "Q3nz6hc6oy3G",
        "outputId": "1d75b554-c0a6-4f1e-dcee-154930ad5656"
      },
      "outputs": [
        {
          "output_type": "stream",
          "name": "stdout",
          "text": [
            "Enter the temperature value: 86\n",
            "Enter the unit of the temperature (C for Celsius, F for Fahrenheit, K for Kelvin): c\n",
            "86.0°C is equivalent to 186.80°F and 359.15K.\n"
          ]
        }
      ],
      "source": [
        "def celsius_to_fahrenheit(celsius):\n",
        "    \"\"\"Converts Celsius to Fahrenheit.\"\"\"\n",
        "    return (celsius * 9/5) + 32\n",
        "\n",
        "def celsius_to_kelvin(celsius):\n",
        "    \"\"\"Converts Celsius to Kelvin.\"\"\"\n",
        "    return celsius + 273.15\n",
        "\n",
        "def fahrenheit_to_celsius(fahrenheit):\n",
        "    \"\"\"Converts Fahrenheit to Celsius.\"\"\"\n",
        "    return (fahrenheit - 32) * 5/9\n",
        "\n",
        "def fahrenheit_to_kelvin(fahrenheit):\n",
        "    \"\"\"Converts Fahrenheit to Kelvin.\"\"\"\n",
        "    return (fahrenheit - 32) * 5/9 + 273.15\n",
        "\n",
        "def kelvin_to_celsius(kelvin):\n",
        "    \"\"\"Converts Kelvin to Celsius.\"\"\"\n",
        "    return kelvin - 273.15\n",
        "\n",
        "def kelvin_to_fahrenheit(kelvin):\n",
        "    \"\"\"Converts Kelvin to Fahrenheit.\"\"\"\n",
        "    return (kelvin - 273.15) * 9/5 + 32\n",
        "\n",
        "def convert_temperature(value, unit):\n",
        "    \"\"\"Converts temperature to all other units based on the input unit.\"\"\"\n",
        "    if unit == 'C':\n",
        "        fahrenheit = celsius_to_fahrenheit(value)\n",
        "        kelvin = celsius_to_kelvin(value)\n",
        "        return fahrenheit, kelvin\n",
        "    elif unit == 'F':\n",
        "        celsius = fahrenheit_to_celsius(value)\n",
        "        kelvin = fahrenheit_to_kelvin(value)\n",
        "        return celsius, kelvin\n",
        "    elif unit == 'K':\n",
        "        celsius = kelvin_to_celsius(value)\n",
        "        fahrenheit = kelvin_to_fahrenheit(value)\n",
        "        return celsius, fahrenheit\n",
        "    else:\n",
        "        raise ValueError(\"Invalid unit. Please use 'C', 'F', or 'K'.\")\n",
        "\n",
        "def main():\n",
        "    \"\"\"Main function to prompt user input and perform temperature conversion.\"\"\"\n",
        "    try:\n",
        "        value = float(input(\"Enter the temperature value: \"))\n",
        "        unit = input(\"Enter the unit of the temperature (C for Celsius, F for Fahrenheit, K for Kelvin): \").strip().upper()\n",
        "\n",
        "        if unit not in ['C', 'F', 'K']:\n",
        "            raise ValueError(\"Invalid unit. Please use 'C', 'F', or 'K'.\")\n",
        "\n",
        "        converted_values = convert_temperature(value, unit)\n",
        "\n",
        "        if unit == 'C':\n",
        "            print(f\"{value}°C is equivalent to {converted_values[0]:.2f}°F and {converted_values[1]:.2f}K.\")\n",
        "        elif unit == 'F':\n",
        "            print(f\"{value}°F is equivalent to {converted_values[0]:.2f}°C and {converted_values[1]:.2f}K.\")\n",
        "        elif unit == 'K':\n",
        "            print(f\"{value}K is equivalent to {converted_values[0]:.2f}°C and {converted_values[1]:.2f}°F.\")\n",
        "\n",
        "    except ValueError as e:\n",
        "        print(e)\n",
        "\n",
        "if __name__ == \"__main__\":\n",
        "    main()\n"
      ]
    }
  ]
}